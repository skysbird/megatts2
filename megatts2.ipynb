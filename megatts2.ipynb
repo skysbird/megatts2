{
 "cells": [
  {
   "cell_type": "code",
   "execution_count": 1,
   "metadata": {
    "colab": {
     "base_uri": "https://localhost:8080/"
    },
    "id": "c69tB7zI0sK0",
    "outputId": "cb302e8b-e347-4df7-87eb-30eca4cdb843"
   },
   "outputs": [
    {
     "name": "stdout",
     "output_type": "stream",
     "text": [
      "Mounted at /content/drive\n"
     ]
    }
   ],
   "source": [
    "from google.colab import drive\n",
    "\n",
    "drive.mount('/content/drive')\n"
   ]
  },
  {
   "cell_type": "code",
   "execution_count": 1,
   "metadata": {
    "colab": {
     "base_uri": "https://localhost:8080/"
    },
    "id": "eXZFR_Fq4Eka",
    "outputId": "9ba0c72a-4f4e-4c2a-ed7f-dc08ad36a6b6",
    "tags": []
   },
   "outputs": [
    {
     "name": "stderr",
     "output_type": "stream",
     "text": [
      "116500it [07:37, 254.50it/s]\n"
     ]
    }
   ],
   "source": [
    "# corp_path = '/data/sky/LibriTTS/test-clean/121/121726'\n",
    "corp_path = '/data/sky/LibriTTS/train-clean-360'\n",
    "wav_path = '/data/sky/data/wavs'\n",
    "\n",
    "import os\n",
    "import shutil\n",
    "\n",
    "os.makedirs(wav_path,exist_ok=True)\n",
    "\n",
    "from pathlib import Path\n",
    "from tqdm import tqdm\n",
    "\n",
    "wav_item_path = Path(corp_path).rglob(r'*.wav')\n",
    "for wav in tqdm(wav_item_path):\n",
    "  spk = wav.parent.parent.stem\n",
    "  txt = wav.with_suffix('.normalized.txt')\n",
    "  if not txt.exists():\n",
    "    continue\n",
    "\n",
    "  target_spk_dir = Path(wav_path,spk)\n",
    "  os.makedirs(target_spk_dir,exist_ok=True)\n",
    "\n",
    "  src = str(wav)\n",
    "  dst = str(target_spk_dir.joinpath(wav.name))\n",
    "\n",
    "  shutil.copyfile(src, dst)\n",
    "\n",
    "  target_txt = target_spk_dir.joinpath(txt.name.replace('.normalized',''))\n",
    "  shutil.copyfile(str(txt), str(target_txt))\n",
    "\n"
   ]
  },
  {
   "cell_type": "code",
   "execution_count": 70,
   "metadata": {
    "colab": {
     "base_uri": "https://localhost:8080/"
    },
    "id": "qy_--3p_E6YE",
    "outputId": "0af805af-73d8-4dfa-c0a7-eb685609f584"
   },
   "outputs": [
    {
     "name": "stdout",
     "output_type": "stream",
     "text": [
      "Thu Feb 22 06:21:02 2024       \n",
      "+---------------------------------------------------------------------------------------+\n",
      "| NVIDIA-SMI 535.104.05             Driver Version: 535.104.05   CUDA Version: 12.2     |\n",
      "|-----------------------------------------+----------------------+----------------------+\n",
      "| GPU  Name                 Persistence-M | Bus-Id        Disp.A | Volatile Uncorr. ECC |\n",
      "| Fan  Temp   Perf          Pwr:Usage/Cap |         Memory-Usage | GPU-Util  Compute M. |\n",
      "|                                         |                      |               MIG M. |\n",
      "|=========================================+======================+======================|\n",
      "|   0  NVIDIA A100-SXM4-40GB          Off | 00000000:00:04.0 Off |                    0 |\n",
      "| N/A   35C    P0              61W / 400W |  31331MiB / 40960MiB |     22%      Default |\n",
      "|                                         |                      |             Disabled |\n",
      "+-----------------------------------------+----------------------+----------------------+\n",
      "                                                                                         \n",
      "+---------------------------------------------------------------------------------------+\n",
      "| Processes:                                                                            |\n",
      "|  GPU   GI   CI        PID   Type   Process name                            GPU Memory |\n",
      "|        ID   ID                                                             Usage      |\n",
      "|=======================================================================================|\n",
      "+---------------------------------------------------------------------------------------+\n"
     ]
    }
   ],
   "source": [
    "!nvidia-smi"
   ]
  },
  {
   "cell_type": "code",
   "execution_count": 72,
   "metadata": {
    "colab": {
     "base_uri": "https://localhost:8080/"
    },
    "id": "ZwyeZrmgTdDl",
    "outputId": "0442648c-d058-4479-fd16-637eff17b26e"
   },
   "outputs": [
    {
     "name": "stdout",
     "output_type": "stream",
     "text": [
      "Traceback for thread 92892 (python3) [] (most recent call last):\n",
      "    \u001b[32m(Python)\u001b[0m File \"/usr/lib/python3.10/threading.py\", line 973, in \u001b[33m_bootstrap\u001b[0m\n",
      "        self._bootstrap_inner()\n",
      "    \u001b[32m(Python)\u001b[0m File \"/usr/lib/python3.10/threading.py\", line 1016, in \u001b[33m_bootstrap_inner\u001b[0m\n",
      "        self.run()\n",
      "    \u001b[32m(Python)\u001b[0m File \"/usr/lib/python3.10/threading.py\", line 953, in \u001b[33mrun\u001b[0m\n",
      "        self._target(*self._args, **self._kwargs)\n",
      "    \u001b[32m(Python)\u001b[0m File \"/usr/lib/python3.10/multiprocessing/queues.py\", line 231, in \u001b[33m_feed\u001b[0m\n",
      "        nwait()\n",
      "    \u001b[32m(Python)\u001b[0m File \"/usr/lib/python3.10/threading.py\", line 320, in \u001b[33mwait\u001b[0m\n",
      "        waiter.acquire()\n",
      "\n",
      "Traceback for thread 92891 (python3) [] (most recent call last):\n",
      "    \u001b[32m(Python)\u001b[0m File \"/usr/lib/python3.10/threading.py\", line 973, in \u001b[33m_bootstrap\u001b[0m\n",
      "        self._bootstrap_inner()\n",
      "    \u001b[32m(Python)\u001b[0m File \"/usr/lib/python3.10/threading.py\", line 1016, in \u001b[33m_bootstrap_inner\u001b[0m\n",
      "        self.run()\n",
      "    \u001b[32m(Python)\u001b[0m File \"/usr/lib/python3.10/threading.py\", line 953, in \u001b[33mrun\u001b[0m\n",
      "        self._target(*self._args, **self._kwargs)\n",
      "    \u001b[32m(Python)\u001b[0m File \"/usr/lib/python3.10/multiprocessing/queues.py\", line 231, in \u001b[33m_feed\u001b[0m\n",
      "        nwait()\n",
      "    \u001b[32m(Python)\u001b[0m File \"/usr/lib/python3.10/threading.py\", line 320, in \u001b[33mwait\u001b[0m\n",
      "        waiter.acquire()\n",
      "\n",
      "Traceback for thread 92890 (python3) [] (most recent call last):\n",
      "    \u001b[32m(Python)\u001b[0m File \"/usr/lib/python3.10/threading.py\", line 973, in \u001b[33m_bootstrap\u001b[0m\n",
      "        self._bootstrap_inner()\n",
      "    \u001b[32m(Python)\u001b[0m File \"/usr/lib/python3.10/threading.py\", line 1016, in \u001b[33m_bootstrap_inner\u001b[0m\n",
      "        self.run()\n",
      "    \u001b[32m(Python)\u001b[0m File \"/usr/lib/python3.10/threading.py\", line 953, in \u001b[33mrun\u001b[0m\n",
      "        self._target(*self._args, **self._kwargs)\n",
      "    \u001b[32m(Python)\u001b[0m File \"/usr/lib/python3.10/multiprocessing/queues.py\", line 231, in \u001b[33m_feed\u001b[0m\n",
      "        nwait()\n",
      "    \u001b[32m(Python)\u001b[0m File \"/usr/lib/python3.10/threading.py\", line 320, in \u001b[33mwait\u001b[0m\n",
      "        waiter.acquire()\n",
      "\n",
      "Traceback for thread 92889 (python3) [] (most recent call last):\n",
      "    \u001b[32m(Python)\u001b[0m File \"/usr/lib/python3.10/threading.py\", line 973, in \u001b[33m_bootstrap\u001b[0m\n",
      "        self._bootstrap_inner()\n",
      "    \u001b[32m(Python)\u001b[0m File \"/usr/lib/python3.10/threading.py\", line 1016, in \u001b[33m_bootstrap_inner\u001b[0m\n",
      "        self.run()\n",
      "    \u001b[32m(Python)\u001b[0m File \"/usr/lib/python3.10/threading.py\", line 953, in \u001b[33mrun\u001b[0m\n",
      "        self._target(*self._args, **self._kwargs)\n",
      "    \u001b[32m(Python)\u001b[0m File \"/usr/lib/python3.10/multiprocessing/queues.py\", line 231, in \u001b[33m_feed\u001b[0m\n",
      "        nwait()\n",
      "    \u001b[32m(Python)\u001b[0m File \"/usr/lib/python3.10/threading.py\", line 320, in \u001b[33mwait\u001b[0m\n",
      "        waiter.acquire()\n",
      "\n",
      "Traceback for thread 92888 (python3) [] (most recent call last):\n",
      "    \u001b[32m(Python)\u001b[0m File \"/usr/lib/python3.10/threading.py\", line 973, in \u001b[33m_bootstrap\u001b[0m\n",
      "        self._bootstrap_inner()\n",
      "    \u001b[32m(Python)\u001b[0m File \"/usr/lib/python3.10/threading.py\", line 1016, in \u001b[33m_bootstrap_inner\u001b[0m\n",
      "        self.run()\n",
      "    \u001b[32m(Python)\u001b[0m File \"/usr/lib/python3.10/threading.py\", line 953, in \u001b[33mrun\u001b[0m\n",
      "        self._target(*self._args, **self._kwargs)\n",
      "    \u001b[32m(Python)\u001b[0m File \"/usr/local/lib/python3.10/dist-packages/torch/utils/data/_utils/pin_memory.py\", line 54, in \u001b[33m_pin_memory_loop\u001b[0m\n",
      "        do_one_step()\n",
      "    \u001b[32m(Python)\u001b[0m File \"/usr/local/lib/python3.10/dist-packages/torch/utils/data/_utils/pin_memory.py\", line 31, in \u001b[33mdo_one_step\u001b[0m\n",
      "        r = in_queue.get(timeout=MP_STATUS_CHECK_INTERVAL)\n",
      "    \u001b[32m(Python)\u001b[0m File \"/usr/lib/python3.10/multiprocessing/queues.py\", line 113, in \u001b[33mget\u001b[0m\n",
      "        if not self._poll(timeout):\n",
      "    \u001b[32m(Python)\u001b[0m File \"/usr/lib/python3.10/multiprocessing/connection.py\", line 257, in \u001b[33mpoll\u001b[0m\n",
      "        return self._poll(timeout)\n",
      "    \u001b[32m(Python)\u001b[0m File \"/usr/lib/python3.10/multiprocessing/connection.py\", line 424, in \u001b[33m_poll\u001b[0m\n",
      "        r = wait([self], timeout)\n",
      "    \u001b[32m(Python)\u001b[0m File \"/usr/lib/python3.10/multiprocessing/connection.py\", line 931, in \u001b[33mwait\u001b[0m\n",
      "        ready = selector.select(timeout)\n",
      "    \u001b[32m(Python)\u001b[0m File \"/usr/lib/python3.10/selectors.py\", line 416, in \u001b[33mselect\u001b[0m\n",
      "        fd_event_list = self._selector.poll(timeout)\n",
      "\n",
      "The frame stack for thread 91547 is empty\n",
      "Traceback for thread 91368 (python3) [] (most recent call last):\n",
      "    \u001b[32m(Python)\u001b[0m File \"/usr/lib/python3.10/threading.py\", line 973, in \u001b[33m_bootstrap\u001b[0m\n",
      "        self._bootstrap_inner()\n",
      "    \u001b[32m(Python)\u001b[0m File \"/usr/lib/python3.10/threading.py\", line 1016, in \u001b[33m_bootstrap_inner\u001b[0m\n",
      "        self.run()\n",
      "    \u001b[32m(Python)\u001b[0m File \"/usr/lib/python3.10/threading.py\", line 953, in \u001b[33mrun\u001b[0m\n",
      "        self._target(*self._args, **self._kwargs)\n",
      "    \u001b[32m(Python)\u001b[0m File \"/usr/lib/python3.10/multiprocessing/queues.py\", line 231, in \u001b[33m_feed\u001b[0m\n",
      "        nwait()\n",
      "    \u001b[32m(Python)\u001b[0m File \"/usr/lib/python3.10/threading.py\", line 320, in \u001b[33mwait\u001b[0m\n",
      "        waiter.acquire()\n",
      "\n",
      "Traceback for thread 91367 (python3) [] (most recent call last):\n",
      "    \u001b[32m(Python)\u001b[0m File \"/usr/lib/python3.10/threading.py\", line 973, in \u001b[33m_bootstrap\u001b[0m\n",
      "        self._bootstrap_inner()\n",
      "    \u001b[32m(Python)\u001b[0m File \"/usr/lib/python3.10/threading.py\", line 1016, in \u001b[33m_bootstrap_inner\u001b[0m\n",
      "        self.run()\n",
      "    \u001b[32m(Python)\u001b[0m File \"/usr/lib/python3.10/threading.py\", line 953, in \u001b[33mrun\u001b[0m\n",
      "        self._target(*self._args, **self._kwargs)\n",
      "    \u001b[32m(Python)\u001b[0m File \"/usr/lib/python3.10/multiprocessing/queues.py\", line 231, in \u001b[33m_feed\u001b[0m\n",
      "        nwait()\n",
      "    \u001b[32m(Python)\u001b[0m File \"/usr/lib/python3.10/threading.py\", line 320, in \u001b[33mwait\u001b[0m\n",
      "        waiter.acquire()\n",
      "\n",
      "Traceback for thread 91365 (python3) [] (most recent call last):\n",
      "    \u001b[32m(Python)\u001b[0m File \"/usr/lib/python3.10/threading.py\", line 973, in \u001b[33m_bootstrap\u001b[0m\n",
      "        self._bootstrap_inner()\n",
      "    \u001b[32m(Python)\u001b[0m File \"/usr/lib/python3.10/threading.py\", line 1016, in \u001b[33m_bootstrap_inner\u001b[0m\n",
      "        self.run()\n",
      "    \u001b[32m(Python)\u001b[0m File \"/usr/lib/python3.10/threading.py\", line 953, in \u001b[33mrun\u001b[0m\n",
      "        self._target(*self._args, **self._kwargs)\n",
      "    \u001b[32m(Python)\u001b[0m File \"/usr/lib/python3.10/multiprocessing/queues.py\", line 231, in \u001b[33m_feed\u001b[0m\n",
      "        nwait()\n",
      "    \u001b[32m(Python)\u001b[0m File \"/usr/lib/python3.10/threading.py\", line 320, in \u001b[33mwait\u001b[0m\n",
      "        waiter.acquire()\n",
      "\n",
      "Traceback for thread 91364 (python3) [] (most recent call last):\n",
      "    \u001b[32m(Python)\u001b[0m File \"/usr/lib/python3.10/threading.py\", line 973, in \u001b[33m_bootstrap\u001b[0m\n",
      "        self._bootstrap_inner()\n",
      "    \u001b[32m(Python)\u001b[0m File \"/usr/lib/python3.10/threading.py\", line 1016, in \u001b[33m_bootstrap_inner\u001b[0m\n",
      "        self.run()\n",
      "    \u001b[32m(Python)\u001b[0m File \"/usr/lib/python3.10/threading.py\", line 953, in \u001b[33mrun\u001b[0m\n",
      "        self._target(*self._args, **self._kwargs)\n",
      "    \u001b[32m(Python)\u001b[0m File \"/usr/lib/python3.10/multiprocessing/queues.py\", line 231, in \u001b[33m_feed\u001b[0m\n",
      "        nwait()\n",
      "    \u001b[32m(Python)\u001b[0m File \"/usr/lib/python3.10/threading.py\", line 320, in \u001b[33mwait\u001b[0m\n",
      "        waiter.acquire()\n",
      "\n",
      "Traceback for thread 91314 (python3) [] (most recent call last):\n",
      "    \u001b[32m(Python)\u001b[0m File \"/usr/lib/python3.10/threading.py\", line 973, in \u001b[33m_bootstrap\u001b[0m\n",
      "        self._bootstrap_inner()\n",
      "    \u001b[32m(Python)\u001b[0m File \"/usr/lib/python3.10/threading.py\", line 1016, in \u001b[33m_bootstrap_inner\u001b[0m\n",
      "        self.run()\n",
      "    \u001b[32m(Python)\u001b[0m File \"/usr/local/lib/python3.10/dist-packages/tqdm/_monitor.py\", line 60, in \u001b[33mrun\u001b[0m\n",
      "        self.was_killed.wait(self.sleep_interval)\n",
      "    \u001b[32m(Python)\u001b[0m File \"/usr/lib/python3.10/threading.py\", line 607, in \u001b[33mwait\u001b[0m\n",
      "        signaled = self._cond.wait(timeout)\n",
      "    \u001b[32m(Python)\u001b[0m File \"/usr/lib/python3.10/threading.py\", line 324, in \u001b[33mwait\u001b[0m\n",
      "        gotit = waiter.acquire(True, timeout)\n",
      "\n",
      "Traceback for thread 91309 (python3) [] (most recent call last):\n",
      "    \u001b[32m(Python)\u001b[0m File \"/usr/lib/python3.10/threading.py\", line 973, in \u001b[33m_bootstrap\u001b[0m\n",
      "        self._bootstrap_inner()\n",
      "    \u001b[32m(Python)\u001b[0m File \"/usr/lib/python3.10/threading.py\", line 1016, in \u001b[33m_bootstrap_inner\u001b[0m\n",
      "        self.run()\n",
      "    \u001b[32m(Python)\u001b[0m File \"/usr/local/lib/python3.10/dist-packages/tensorboard/summary/writer/event_file_writer.py\", line 244, in \u001b[33mrun\u001b[0m\n",
      "        self._run()\n",
      "    \u001b[32m(Python)\u001b[0m File \"/usr/local/lib/python3.10/dist-packages/tensorboard/summary/writer/event_file_writer.py\", line 269, in \u001b[33m_run\u001b[0m\n",
      "        data = self._queue.get(True, queue_wait_duration)\n",
      "    \u001b[32m(Python)\u001b[0m File \"/usr/lib/python3.10/queue.py\", line 180, in \u001b[33mget\u001b[0m\n",
      "        self.not_empty.wait(remaining)\n",
      "    \u001b[32m(Python)\u001b[0m File \"/usr/lib/python3.10/threading.py\", line 324, in \u001b[33mwait\u001b[0m\n",
      "        gotit = waiter.acquire(True, timeout)\n",
      "\n",
      "Traceback for thread 91216 (python3) [] (most recent call last):\n",
      "    \u001b[32m(Python)\u001b[0m File \"/content/megatts2/cli.py\", line 13, in \u001b[33m<module>\u001b[0m\n",
      "        cli_main()\n",
      "    \u001b[32m(Python)\u001b[0m File \"/content/megatts2/cli.py\", line 10, in \u001b[33mcli_main\u001b[0m\n",
      "        cli = LightningCLI(MegaGANTrainer, TTSDataModule)\n",
      "    \u001b[32m(Python)\u001b[0m File \"/usr/local/lib/python3.10/dist-packages/lightning/pytorch/cli.py\", line 386, in \u001b[33m__init__\u001b[0m\n",
      "        self._run_subcommand(self.subcommand)\n",
      "    \u001b[32m(Python)\u001b[0m File \"/usr/local/lib/python3.10/dist-packages/lightning/pytorch/cli.py\", line 677, in \u001b[33m_run_subcommand\u001b[0m\n",
      "        fn(**fn_kwargs)\n",
      "    \u001b[32m(Python)\u001b[0m File \"/usr/local/lib/python3.10/dist-packages/lightning/pytorch/trainer/trainer.py\", line 545, in \u001b[33mfit\u001b[0m\n",
      "        call._call_and_handle_interrupt(\n",
      "    \u001b[32m(Python)\u001b[0m File \"/usr/local/lib/python3.10/dist-packages/lightning/pytorch/trainer/call.py\", line 44, in \u001b[33m_call_and_handle_interrupt\u001b[0m\n",
      "        return trainer_fn(*args, **kwargs)\n",
      "    \u001b[32m(Python)\u001b[0m File \"/usr/local/lib/python3.10/dist-packages/lightning/pytorch/trainer/trainer.py\", line 581, in \u001b[33m_fit_impl\u001b[0m\n",
      "        self._run(model, ckpt_path=ckpt_path)\n",
      "    \u001b[32m(Python)\u001b[0m File \"/usr/local/lib/python3.10/dist-packages/lightning/pytorch/trainer/trainer.py\", line 990, in \u001b[33m_run\u001b[0m\n",
      "        results = self._run_stage()\n",
      "    \u001b[32m(Python)\u001b[0m File \"/usr/local/lib/python3.10/dist-packages/lightning/pytorch/trainer/trainer.py\", line 1036, in \u001b[33m_run_stage\u001b[0m\n",
      "        self.fit_loop.run()\n",
      "    \u001b[32m(Python)\u001b[0m File \"/usr/local/lib/python3.10/dist-packages/lightning/pytorch/loops/fit_loop.py\", line 202, in \u001b[33mrun\u001b[0m\n",
      "        self.advance()\n",
      "    \u001b[32m(Python)\u001b[0m File \"/usr/local/lib/python3.10/dist-packages/lightning/pytorch/loops/fit_loop.py\", line 359, in \u001b[33madvance\u001b[0m\n",
      "        self.epoch_loop.run(self._data_fetcher)\n",
      "    \u001b[32m(Python)\u001b[0m File \"/usr/local/lib/python3.10/dist-packages/lightning/pytorch/loops/training_epoch_loop.py\", line 136, in \u001b[33mrun\u001b[0m\n",
      "        self.advance(data_fetcher)\n",
      "    \u001b[32m(Python)\u001b[0m File \"/usr/local/lib/python3.10/dist-packages/lightning/pytorch/loops/training_epoch_loop.py\", line 242, in \u001b[33madvance\u001b[0m\n",
      "        batch_output = self.manual_optimization.run(kwargs)\n",
      "    \u001b[32m(Python)\u001b[0m File \"/usr/local/lib/python3.10/dist-packages/lightning/pytorch/loops/optimization/manual.py\", line 92, in \u001b[33mrun\u001b[0m\n",
      "        self.advance(kwargs)\n",
      "    \u001b[32m(Python)\u001b[0m File \"/usr/local/lib/python3.10/dist-packages/lightning/pytorch/loops/optimization/manual.py\", line 112, in \u001b[33madvance\u001b[0m\n",
      "        training_step_output = call._call_strategy_hook(trainer, \"training_step\", *kwargs.values())\n",
      "    \u001b[32m(Python)\u001b[0m File \"/usr/local/lib/python3.10/dist-packages/lightning/pytorch/trainer/call.py\", line 309, in \u001b[33m_call_strategy_hook\u001b[0m\n",
      "        output = fn(*args, **kwargs)\n",
      "    \u001b[32m(Python)\u001b[0m File \"/usr/local/lib/python3.10/dist-packages/lightning/pytorch/strategies/strategy.py\", line 382, in \u001b[33mtraining_step\u001b[0m\n",
      "        return self.lightning_module.training_step(*args, **kwargs)\n",
      "    \u001b[32m(Python)\u001b[0m File \"/content/megatts2/models/trainer.py\", line 121, in \u001b[33mtraining_step\u001b[0m\n",
      "        self.manual_backward(G_loss_total)\n",
      "    \u001b[32m(Python)\u001b[0m File \"/usr/local/lib/python3.10/dist-packages/lightning/pytorch/core/module.py\", line 1050, in \u001b[33mmanual_backward\u001b[0m\n",
      "        self.trainer.strategy.backward(loss, None, *args, **kwargs)\n",
      "    \u001b[32m(Python)\u001b[0m File \"/usr/local/lib/python3.10/dist-packages/lightning/pytorch/strategies/strategy.py\", line 204, in \u001b[33mbackward\u001b[0m\n",
      "        self.precision_plugin.backward(closure_loss, self.lightning_module, optimizer, *args, **kwargs)\n",
      "    \u001b[32m(Python)\u001b[0m File \"/usr/local/lib/python3.10/dist-packages/lightning/pytorch/plugins/precision/precision_plugin.py\", line 69, in \u001b[33mbackward\u001b[0m\n",
      "        model.backward(tensor, *args, **kwargs)\n",
      "    \u001b[32m(Python)\u001b[0m File \"/usr/local/lib/python3.10/dist-packages/lightning/pytorch/core/module.py\", line 1069, in \u001b[33mbackward\u001b[0m\n",
      "        loss.backward(*args, **kwargs)\n",
      "    \u001b[32m(Python)\u001b[0m File \"/usr/local/lib/python3.10/dist-packages/torch/_tensor.py\", line 492, in \u001b[33mbackward\u001b[0m\n",
      "        torch.autograd.backward(\n",
      "    \u001b[32m(Python)\u001b[0m File \"/usr/local/lib/python3.10/dist-packages/torch/autograd/__init__.py\", line 251, in \u001b[33mbackward\u001b[0m\n",
      "        Variable._execution_engine.run_backward(  # Calls into the C++ engine to run the backward pass\n",
      "\n"
     ]
    }
   ],
   "source": [
    "!pystack remote 91216"
   ]
  },
  {
   "cell_type": "markdown",
   "metadata": {
    "id": "AuRkhcEgE5aT"
   },
   "source": []
  },
  {
   "cell_type": "code",
   "execution_count": 71,
   "metadata": {
    "colab": {
     "base_uri": "https://localhost:8080/"
    },
    "id": "g22anc6lTQmj",
    "outputId": "6708f171-917c-439b-84cb-26abac93b5a9"
   },
   "outputs": [
    {
     "name": "stdout",
     "output_type": "stream",
     "text": [
      "\u001b[H\u001b[mtop - 06:23:05 up  5:29,  0 users,  load average: 1.24, 1.39, 1.35\u001b[m\u001b[m\u001b[m\u001b[m\u001b[K\n",
      "Tasks:\u001b[m\u001b[m\u001b[1m  34 \u001b[m\u001b[mtotal,\u001b[m\u001b[m\u001b[1m   1 \u001b[m\u001b[mrunning,\u001b[m\u001b[m\u001b[1m  32 \u001b[m\u001b[msleeping,\u001b[m\u001b[m\u001b[1m   0 \u001b[m\u001b[mstopped,\u001b[m\u001b[m\u001b[1m   1 \u001b[m\u001b[mzombie\u001b[m\u001b[m\u001b[m\u001b[m\u001b[K\n",
      "%Cpu(s):\u001b[m\u001b[m\u001b[1m  9.0 \u001b[m\u001b[mus,\u001b[m\u001b[m\u001b[1m  0.3 \u001b[m\u001b[msy,\u001b[m\u001b[m\u001b[1m  0.0 \u001b[m\u001b[mni,\u001b[m\u001b[m\u001b[1m 90.6 \u001b[m\u001b[mid,\u001b[m\u001b[m\u001b[1m  0.0 \u001b[m\u001b[mwa,\u001b[m\u001b[m\u001b[1m  0.0 \u001b[m\u001b[mhi,\u001b[m\u001b[m\u001b[1m  0.1 \u001b[m\u001b[msi,\u001b[m\u001b[m\u001b[1m  0.0 \u001b[m\u001b[mst\u001b[m\u001b[m\u001b[m\u001b[m\u001b[K\n",
      "MiB Mem :\u001b[m\u001b[m\u001b[1m  85480.6 \u001b[m\u001b[mtotal,\u001b[m\u001b[m\u001b[1m  37996.1 \u001b[m\u001b[mfree,\u001b[m\u001b[m\u001b[1m   8146.4 \u001b[m\u001b[mused,\u001b[m\u001b[m\u001b[1m  39338.1 \u001b[m\u001b[mbuff/cache\u001b[m\u001b[m\u001b[m\u001b[m\u001b[K\n",
      "MiB Swap:\u001b[m\u001b[m\u001b[1m      0.0 \u001b[m\u001b[mtotal,\u001b[m\u001b[m\u001b[1m      0.0 \u001b[m\u001b[mfree,\u001b[m\u001b[m\u001b[1m      0.0 \u001b[m\u001b[mused.\u001b[m\u001b[m\u001b[1m  76228.9 \u001b[m\u001b[mavail Mem \u001b[m\u001b[m\u001b[m\u001b[m\u001b[K\n",
      "\u001b[K\n",
      "\n",
      "\u001b[m  91216 root      20   0   56.3g   5.6g 968064 S 104.0   6.7   7:45.53 python3                      \u001b[m\u001b[m\u001b[K\n",
      "\u001b[m  92885 root      20   0   56.1g   4.5g 111152 S   1.3   5.4   0:01.43 python3                      \u001b[m\u001b[m\u001b[K\n",
      "\u001b[m   3910 root      20   0 1847264 209928  71376 S   1.0   0.2   0:58.84 python3                      \u001b[m\u001b[m\u001b[K\n",
      "\u001b[m  92886 root      20   0   56.1g   4.5g 111152 S   0.7   5.4   0:01.54 python3                      \u001b[m\u001b[m\u001b[K\n",
      "\u001b[m  92887 root      20   0   56.1g   4.5g 111152 S   0.7   5.4   0:01.53 python3                      \u001b[m\u001b[m\u001b[K\n",
      "\u001b[m     12 root      20   0    7376   3440   3144 S   0.3   0.0   0:10.15 oom_monitor.sh               \u001b[m\u001b[m\u001b[K\n",
      "\u001b[m     15 root      20   0 1237436  13764   7672 S   0.3   0.0   0:06.03 kernel_manager_              \u001b[m\u001b[m\u001b[K\n",
      "\u001b[m      1 root      20   0    1076      8      0 S   0.0   0.0   0:00.48 docker-init                  \u001b[m\u001b[m\u001b[K\n",
      "\u001b[m      8 root      20   0  965120  65044  31180 S   0.0   0.1   0:26.97 node                         \u001b[m\u001b[m\u001b[K\n",
      "\n",
      "\u001b[m     38 root      20   0    5808   1048    952 S   0.0   0.0   0:01.00 tail                         \u001b[m\u001b[m\u001b[K\n",
      "\u001b[m     80 root      20   0       0      0      0 Z   0.0   0.0   0:05.61 python3                      \u001b[m\u001b[m\u001b[K\n",
      "\u001b[m     81 root      20   0   70604  55712  18708 S   0.0   0.1   0:09.24 colab-fileshim.              \u001b[m\u001b[m\u001b[K\n",
      "\u001b[m    137 root      20   0  767948 113236  27248 S   0.0   0.1   0:12.59 jupyter-noteboo              \u001b[m\u001b[m\u001b[K\n",
      "\u001b[m    138 root      20   0 1229560   8388   3016 S   0.0   0.0   0:09.46 dap_multiplexer              \u001b[m\u001b[m\u001b[K\n",
      "\u001b[m   3973 root      20   0  539396  14244   5080 S   0.0   0.0   0:19.04 python3                      \u001b[m\u001b[m\u001b[K\n",
      "\u001b[?1l\u001b>\u001b[25;1H\n",
      "\u001b[K"
     ]
    }
   ],
   "source": [
    "!top"
   ]
  }
 ],
 "metadata": {
  "accelerator": "GPU",
  "colab": {
   "gpuType": "A100",
   "machine_shape": "hm",
   "provenance": []
  },
  "kernelspec": {
   "display_name": "Python 3 (ipykernel)",
   "language": "python",
   "name": "python3"
  },
  "language_info": {
   "codemirror_mode": {
    "name": "ipython",
    "version": 3
   },
   "file_extension": ".py",
   "mimetype": "text/x-python",
   "name": "python",
   "nbconvert_exporter": "python",
   "pygments_lexer": "ipython3",
   "version": "3.10.11"
  }
 },
 "nbformat": 4,
 "nbformat_minor": 4
}
